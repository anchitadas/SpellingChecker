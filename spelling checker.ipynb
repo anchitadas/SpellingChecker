{
 "cells": [
  {
   "cell_type": "code",
   "execution_count": 1,
   "id": "1ab568a5",
   "metadata": {},
   "outputs": [
    {
     "name": "stdout",
     "output_type": "stream",
     "text": [
      "Collecting textblobNote: you may need to restart the kernel to use updated packages.\n",
      "\n",
      "  Downloading textblob-0.17.1-py2.py3-none-any.whl (636 kB)\n",
      "     ------------------------------------ 636.8/636.8 kB 657.4 kB/s eta 0:00:00\n",
      "Requirement already satisfied: nltk>=3.1 in c:\\users\\lenovo\\anaconda3\\lib\\site-packages (from textblob) (3.7)\n",
      "Requirement already satisfied: joblib in c:\\users\\lenovo\\anaconda3\\lib\\site-packages (from nltk>=3.1->textblob) (1.1.0)\n",
      "Requirement already satisfied: click in c:\\users\\lenovo\\anaconda3\\lib\\site-packages (from nltk>=3.1->textblob) (8.0.4)\n",
      "Requirement already satisfied: regex>=2021.8.3 in c:\\users\\lenovo\\anaconda3\\lib\\site-packages (from nltk>=3.1->textblob) (2022.7.9)\n",
      "Requirement already satisfied: tqdm in c:\\users\\lenovo\\anaconda3\\lib\\site-packages (from nltk>=3.1->textblob) (4.64.1)\n",
      "Requirement already satisfied: colorama in c:\\users\\lenovo\\anaconda3\\lib\\site-packages (from click->nltk>=3.1->textblob) (0.4.5)\n",
      "Installing collected packages: textblob\n",
      "Successfully installed textblob-0.17.1\n"
     ]
    }
   ],
   "source": [
    "pip install textblob"
   ]
  },
  {
   "cell_type": "code",
   "execution_count": 6,
   "id": "66a2b598",
   "metadata": {},
   "outputs": [],
   "source": [
    "import tkinter\n",
    "from tkinter import *\n",
    "from textblob import TextBlob\n",
    "\n",
    "root=Tk()\n",
    "root.title(\"Spelling Checker\")\n",
    "root.geometry(\"700x400\")\n",
    "root.config(background=\"#dae6f6\")\n",
    "\n",
    "def check_spelling():\n",
    "    word=enter_text.get()\n",
    "    a=TextBlob(word)\n",
    "    right=str(a.correct())\n",
    "    \n",
    "    cs=Label(root,text=\"Correct text is :\",font=(\"poppins\",20),bg=\"#dae6f6\",fg=\"#364971\")\n",
    "    cs.place(x=100,y=250)\n",
    "    spell.config(text=right)\n",
    "\n",
    "heading= Label(root,text=\"Spelling Checker\",font=(\"Trebuchet MS\",30,\"bold\"),bg=\"#dae6f6\",fg=\"#364971\")\n",
    "heading.pack(pady=(50,0))\n",
    "\n",
    "enter_text=Entry(root,justify=\"center\",width=30,font=(\"poppins\",25),bg=\"white\",border=2)\n",
    "enter_text.pack(pady=10)\n",
    "enter_text.focus()\n",
    "\n",
    "button=Button(root,text=\"Check\",font=(\"arial\",20,\"bold\"),fg=\"white\",bg=\"green\",command=check_spelling)\n",
    "button.pack()\n",
    "\n",
    "spell=Label(root,font=(\"poppins\",20),bg=\"#dae6f6\",fg=\"#364971\")\n",
    "spell.place(x=350,y=250)\n",
    "\n",
    "root.mainloop()"
   ]
  },
  {
   "cell_type": "code",
   "execution_count": null,
   "id": "8bf0656b",
   "metadata": {},
   "outputs": [],
   "source": []
  }
 ],
 "metadata": {
  "kernelspec": {
   "display_name": "Python 3 (ipykernel)",
   "language": "python",
   "name": "python3"
  },
  "language_info": {
   "codemirror_mode": {
    "name": "ipython",
    "version": 3
   },
   "file_extension": ".py",
   "mimetype": "text/x-python",
   "name": "python",
   "nbconvert_exporter": "python",
   "pygments_lexer": "ipython3",
   "version": "3.9.13"
  }
 },
 "nbformat": 4,
 "nbformat_minor": 5
}
